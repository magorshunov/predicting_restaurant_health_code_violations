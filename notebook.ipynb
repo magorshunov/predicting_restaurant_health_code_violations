{
 "cells": [
  {
   "cell_type": "markdown",
   "id": "6519e264",
   "metadata": {},
   "source": [
    "# Predicting Critical Violations of Health Code: Dining in Las Vegas\n",
    "                                        By Mikhail Gorshunov\n",
    "Restaurants are frequent settings for foodborne illness outbreaks. Periodic inspection of restaurants is crucial to ensure commercial food establishments carry out safe food handling procedures. Predictive analytics can help identify problematic restaurants and maximize the utility of limited enforcement resources. In this project, I attempt to develop a machine learning model that predicts restaurants and other dining venues likely to face health code challenges in Las Vegas. The original data can be obtained using the [City of Las Vegas Open Data Portal](https://opendataportal-lasvegas.opendata.arcgis.com/datasets/restaurant-inspections-open-data/explore)."
   ]
  },
  {
   "cell_type": "code",
   "execution_count": 1,
   "id": "9c6b0741",
   "metadata": {},
   "outputs": [],
   "source": [
    "#import Python libraries\n",
    "import pandas as pd\n",
    "pd.set_option('display.max_rows', None, 'display.max_columns', None, 'display.width', None)\n",
    "import seaborn as sns\n",
    "import numpy as np\n",
    "import matplotlib.pyplot as plt\n",
    "%matplotlib inline"
   ]
  },
  {
   "cell_type": "code",
   "execution_count": 2,
   "id": "05cb4652",
   "metadata": {},
   "outputs": [
    {
     "data": {
      "text/html": [
       "<div>\n",
       "<style scoped>\n",
       "    .dataframe tbody tr th:only-of-type {\n",
       "        vertical-align: middle;\n",
       "    }\n",
       "\n",
       "    .dataframe tbody tr th {\n",
       "        vertical-align: top;\n",
       "    }\n",
       "\n",
       "    .dataframe thead th {\n",
       "        text-align: right;\n",
       "    }\n",
       "</style>\n",
       "<table border=\"1\" class=\"dataframe\">\n",
       "  <thead>\n",
       "    <tr style=\"text-align: right;\">\n",
       "      <th></th>\n",
       "      <th>RESTAURANT_SERIAL_NUMBER</th>\n",
       "      <th>RESTAURANT_PERMIT_NUMBER</th>\n",
       "      <th>RESTAURANT_NAME</th>\n",
       "      <th>RESTAURANT_LOCATION</th>\n",
       "      <th>RESTAURANT_CATEGORY</th>\n",
       "      <th>ADDRESS</th>\n",
       "      <th>CITY</th>\n",
       "      <th>STATE</th>\n",
       "      <th>ZIP</th>\n",
       "      <th>CURRENT_DEMERITS</th>\n",
       "      <th>CURRENT_GRADE</th>\n",
       "      <th>EMPLOYEE_COUNT</th>\n",
       "      <th>MEDIAN_EMPLOYEE_AGE</th>\n",
       "      <th>MEDIAN_EMPLOYEE_TENURE</th>\n",
       "      <th>INSPECTION_TIME</th>\n",
       "      <th>INSPECTION_TYPE</th>\n",
       "      <th>INSPECTION_DEMERITS</th>\n",
       "      <th>VIOLATIONS_RAW</th>\n",
       "      <th>RECORD_UPDATED</th>\n",
       "      <th>LAT_LONG_RAW</th>\n",
       "      <th>FIRST_VIOLATION</th>\n",
       "      <th>SECOND_VIOLATION</th>\n",
       "      <th>THIRD_VIOLATION</th>\n",
       "      <th>FIRST_VIOLATION_TYPE</th>\n",
       "      <th>SECOND_VIOLATION_TYPE</th>\n",
       "      <th>THIRD_VIOLATION_TYPE</th>\n",
       "      <th>NUMBER_OF_VIOLATIONS</th>\n",
       "      <th>NEXT_INSPECTION_GRADE_C_OR_BELOW</th>\n",
       "    </tr>\n",
       "  </thead>\n",
       "  <tbody>\n",
       "    <tr>\n",
       "      <th>0</th>\n",
       "      <td>DA1117270</td>\n",
       "      <td>PR0004527</td>\n",
       "      <td>SANDS EXPO HALL B2 CONCESSION</td>\n",
       "      <td>SANDS EXPO &amp; CONVENTION CENTER</td>\n",
       "      <td>Snack Bar</td>\n",
       "      <td>201 E Sands Ave</td>\n",
       "      <td>Las Vegas</td>\n",
       "      <td>Nevada</td>\n",
       "      <td>89169-2617</td>\n",
       "      <td>0.0</td>\n",
       "      <td>A</td>\n",
       "      <td>25.0</td>\n",
       "      <td>27.959983</td>\n",
       "      <td>13.004886</td>\n",
       "      <td>11/5/2013 16:15</td>\n",
       "      <td>Routine Inspection</td>\n",
       "      <td>11</td>\n",
       "      <td>2,042,153,022,955</td>\n",
       "      <td>1/6/2015 16:34</td>\n",
       "      <td>(36.1221442, 115.1652749)</td>\n",
       "      <td>204.0</td>\n",
       "      <td>215.0</td>\n",
       "      <td>302.0</td>\n",
       "      <td>Critical</td>\n",
       "      <td>Major</td>\n",
       "      <td>Imminent Health Hazard</td>\n",
       "      <td>4</td>\n",
       "      <td>0</td>\n",
       "    </tr>\n",
       "    <tr>\n",
       "      <th>1</th>\n",
       "      <td>DA1014948</td>\n",
       "      <td>PR0024221</td>\n",
       "      <td>THAI NOODLES CAFE - RESTAURANT</td>\n",
       "      <td>THAI NOODLES CAFE</td>\n",
       "      <td>Restaurant</td>\n",
       "      <td>6710 W CHEYENNE Ave</td>\n",
       "      <td>Las Vegas</td>\n",
       "      <td>Nevada</td>\n",
       "      <td>89108-4588</td>\n",
       "      <td>3.0</td>\n",
       "      <td>A</td>\n",
       "      <td>7.0</td>\n",
       "      <td>27.719365</td>\n",
       "      <td>3.922086</td>\n",
       "      <td>9/21/2012 13:00</td>\n",
       "      <td>Routine Inspection</td>\n",
       "      <td>9</td>\n",
       "      <td>214,216,229,230,233</td>\n",
       "      <td>2/21/2013 22:26</td>\n",
       "      <td>(36.218691, 115.242913)</td>\n",
       "      <td>214.0</td>\n",
       "      <td>216.0</td>\n",
       "      <td>229.0</td>\n",
       "      <td>Major</td>\n",
       "      <td>Major</td>\n",
       "      <td>Non-Major</td>\n",
       "      <td>5</td>\n",
       "      <td>0</td>\n",
       "    </tr>\n",
       "    <tr>\n",
       "      <th>2</th>\n",
       "      <td>DA0861994</td>\n",
       "      <td>PR0019017</td>\n",
       "      <td>SANTA FE SPORTS BOOK GRILL</td>\n",
       "      <td>Santa Fe Station Hotel &amp; Casino</td>\n",
       "      <td>Restaurant</td>\n",
       "      <td>4949 N Rancho Dr</td>\n",
       "      <td>Las Vegas</td>\n",
       "      <td>Nevada</td>\n",
       "      <td>89130-3505</td>\n",
       "      <td>8.0</td>\n",
       "      <td>A</td>\n",
       "      <td>23.0</td>\n",
       "      <td>26.442637</td>\n",
       "      <td>10.312777</td>\n",
       "      <td>9/16/2011 11:50</td>\n",
       "      <td>Routine Inspection</td>\n",
       "      <td>9</td>\n",
       "      <td>202,215,233</td>\n",
       "      <td>4/6/2015 9:00</td>\n",
       "      <td>(36.2498922, 115.2441383)</td>\n",
       "      <td>202.0</td>\n",
       "      <td>215.0</td>\n",
       "      <td>233.0</td>\n",
       "      <td>Critical</td>\n",
       "      <td>Major</td>\n",
       "      <td>Non-Major</td>\n",
       "      <td>3</td>\n",
       "      <td>1</td>\n",
       "    </tr>\n",
       "  </tbody>\n",
       "</table>\n",
       "</div>"
      ],
      "text/plain": [
       "  RESTAURANT_SERIAL_NUMBER RESTAURANT_PERMIT_NUMBER  \\\n",
       "0                DA1117270                PR0004527   \n",
       "1                DA1014948                PR0024221   \n",
       "2                DA0861994                PR0019017   \n",
       "\n",
       "                  RESTAURANT_NAME              RESTAURANT_LOCATION  \\\n",
       "0   SANDS EXPO HALL B2 CONCESSION   SANDS EXPO & CONVENTION CENTER   \n",
       "1  THAI NOODLES CAFE - RESTAURANT                THAI NOODLES CAFE   \n",
       "2      SANTA FE SPORTS BOOK GRILL  Santa Fe Station Hotel & Casino   \n",
       "\n",
       "  RESTAURANT_CATEGORY              ADDRESS       CITY   STATE         ZIP  \\\n",
       "0           Snack Bar      201 E Sands Ave  Las Vegas  Nevada  89169-2617   \n",
       "1          Restaurant  6710 W CHEYENNE Ave  Las Vegas  Nevada  89108-4588   \n",
       "2          Restaurant     4949 N Rancho Dr  Las Vegas  Nevada  89130-3505   \n",
       "\n",
       "   CURRENT_DEMERITS CURRENT_GRADE  EMPLOYEE_COUNT  MEDIAN_EMPLOYEE_AGE  \\\n",
       "0               0.0             A            25.0            27.959983   \n",
       "1               3.0             A             7.0            27.719365   \n",
       "2               8.0             A            23.0            26.442637   \n",
       "\n",
       "   MEDIAN_EMPLOYEE_TENURE  INSPECTION_TIME     INSPECTION_TYPE  \\\n",
       "0               13.004886  11/5/2013 16:15  Routine Inspection   \n",
       "1                3.922086  9/21/2012 13:00  Routine Inspection   \n",
       "2               10.312777  9/16/2011 11:50  Routine Inspection   \n",
       "\n",
       "  INSPECTION_DEMERITS       VIOLATIONS_RAW   RECORD_UPDATED  \\\n",
       "0                  11    2,042,153,022,955   1/6/2015 16:34   \n",
       "1                   9  214,216,229,230,233  2/21/2013 22:26   \n",
       "2                   9          202,215,233    4/6/2015 9:00   \n",
       "\n",
       "                LAT_LONG_RAW  FIRST_VIOLATION  SECOND_VIOLATION  \\\n",
       "0  (36.1221442, 115.1652749)            204.0             215.0   \n",
       "1    (36.218691, 115.242913)            214.0             216.0   \n",
       "2  (36.2498922, 115.2441383)            202.0             215.0   \n",
       "\n",
       "   THIRD_VIOLATION FIRST_VIOLATION_TYPE SECOND_VIOLATION_TYPE  \\\n",
       "0            302.0             Critical                 Major   \n",
       "1            229.0                Major                 Major   \n",
       "2            233.0             Critical                 Major   \n",
       "\n",
       "     THIRD_VIOLATION_TYPE NUMBER_OF_VIOLATIONS  \\\n",
       "0  Imminent Health Hazard                    4   \n",
       "1               Non-Major                    5   \n",
       "2               Non-Major                    3   \n",
       "\n",
       "  NEXT_INSPECTION_GRADE_C_OR_BELOW  \n",
       "0                                0  \n",
       "1                                0  \n",
       "2                                1  "
      ]
     },
     "execution_count": 2,
     "metadata": {},
     "output_type": "execute_result"
    }
   ],
   "source": [
    "#read in the dataset into dataframe and display first three rows\n",
    "df = pd.read_csv('TRAIN_SET_2021.csv')\n",
    "df.head(3)"
   ]
  },
  {
   "cell_type": "markdown",
   "id": "11d76521",
   "metadata": {},
   "source": [
    "# Initial Data Exploration and Observations\n",
    "I converted all uppercase characters in column names into lowercase characters to facilitate data manipulation. I also renamed the target variable to 'c_grade.'\n",
    "\n",
    "The concise summary of the dataframe indicates that many rows have some missing values. The heat map shows that missing values do not seem to occur because of a systematic reason. As such, the missing values can be imputed without introducing a significant bias to the data.\n",
    "\n",
    "While the dataframe contains many features, my unreported exploratory analyses indicate that most of these features are neither predictive of the target nor necessary. For instance, the information contained in 'current_grade' is already reflected in 'current_demerits.' As such, I focus my analyses on numeric features that tend to contain richer information compared to categorical data. I focus on the following six numeric features: \n",
    "- current_demerits\n",
    "- employee_count\n",
    "- inspection_demerits\n",
    "- number_of_violations\n",
    "- median_employee_age\n",
    "- median_employee_tenure"
   ]
  },
  {
   "cell_type": "code",
   "execution_count": 3,
   "id": "cdcff40f",
   "metadata": {},
   "outputs": [
    {
     "name": "stdout",
     "output_type": "stream",
     "text": [
      "<class 'pandas.core.frame.DataFrame'>\n",
      "RangeIndex: 15673 entries, 0 to 15672\n",
      "Data columns (total 28 columns):\n",
      " #   Column                    Non-Null Count  Dtype  \n",
      "---  ------                    --------------  -----  \n",
      " 0   restaurant_serial_number  15673 non-null  object \n",
      " 1   restaurant_permit_number  15673 non-null  object \n",
      " 2   restaurant_name           15608 non-null  object \n",
      " 3   restaurant_location       15473 non-null  object \n",
      " 4   restaurant_category       15543 non-null  object \n",
      " 5   address                   15603 non-null  object \n",
      " 6   city                      15437 non-null  object \n",
      " 7   state                     15464 non-null  object \n",
      " 8   zip                       15614 non-null  object \n",
      " 9   current_demerits          15457 non-null  float64\n",
      " 10  current_grade             15365 non-null  object \n",
      " 11  employee_count            15580 non-null  float64\n",
      " 12  median_employee_age       15639 non-null  float64\n",
      " 13  median_employee_tenure    15376 non-null  float64\n",
      " 14  inspection_time           15490 non-null  object \n",
      " 15  inspection_type           15452 non-null  object \n",
      " 16  inspection_demerits       15419 non-null  object \n",
      " 17  violations_raw            15508 non-null  object \n",
      " 18  record_updated            15554 non-null  object \n",
      " 19  lat_long_raw              15658 non-null  object \n",
      " 20  first_violation           15461 non-null  float64\n",
      " 21  second_violation          15588 non-null  float64\n",
      " 22  third_violation           15612 non-null  float64\n",
      " 23  first_violation_type      15527 non-null  object \n",
      " 24  second_violation_type     15406 non-null  object \n",
      " 25  third_violation_type      15500 non-null  object \n",
      " 26  number_of_violations      15504 non-null  object \n",
      " 27  c_grade                   15633 non-null  object \n",
      "dtypes: float64(7), object(21)\n",
      "memory usage: 3.3+ MB\n"
     ]
    }
   ],
   "source": [
    "df.columns = df.columns.str.lower()\n",
    "df.rename(columns = {'next_inspection_grade_c_or_below':'c_grade'}, inplace = True) \n",
    "df.info()"
   ]
  },
  {
   "cell_type": "code",
   "execution_count": 4,
   "id": "8a2ce55c",
   "metadata": {},
   "outputs": [
    {
     "data": {
      "image/png": "[encoded data removed]",
      "text/plain": [
       "<Figure size 720x576 with 1 Axes>"
      ]
     },
     "metadata": {
      "needs_background": "light"
     },
     "output_type": "display_data"
    }
   ],
   "source": [
    "# create heatmap for missing values\n",
    "sns.heatmap(df.isnull(), cbar=False)\n",
    "plt.gcf().set_size_inches(10, 8)\n",
    "plt.show()"
   ]
  },
  {
   "cell_type": "markdown",
   "id": "d64f95be",
   "metadata": {},
   "source": [
    "# Cleaning Target Variable\n",
    "To explore the c_grade column, I created a frequency distribution table. The table reveals that the most common values are coded 0 and 1. Additionally, the column contains 40 missings values and some erroneous entries. I slice the dataframe that contains only 0 and 1 values and convert the column to the integer type to address these issues. The resulting dataframe contains 84% of values codes 1, while the remaining 16% were coded 0."
   ]
  },
  {
   "cell_type": "code",
   "execution_count": 5,
   "id": "04f70459",
   "metadata": {},
   "outputs": [
    {
     "data": {
      "text/plain": [
       "0       13143\n",
       "1        2484\n",
       "NaN        40\n",
       "-3          1\n",
       "Goat        1\n",
       "7           1\n",
       "9           1\n",
       "4           1\n",
       "3           1\n",
       "Name: c_grade, dtype: int64"
      ]
     },
     "execution_count": 5,
     "metadata": {},
     "output_type": "execute_result"
    }
   ],
   "source": [
    "# create frequency distribution table for the c_grade column\n",
    "df.c_grade.value_counts(dropna=False)"
   ]
  },
  {
   "cell_type": "code",
   "execution_count": 6,
   "id": "609ed5a5",
   "metadata": {},
   "outputs": [],
   "source": [
    "#slice the df\n",
    "df = df[(df.c_grade == '1') | (df.c_grade == '0')]\n",
    "df.c_grade = df.c_grade.astype('int')"
   ]
  },
  {
   "cell_type": "code",
   "execution_count": 7,
   "id": "b1a04fb3",
   "metadata": {},
   "outputs": [
    {
     "data": {
      "text/plain": [
       "0    84.0\n",
       "1    16.0\n",
       "Name: c_grade, dtype: float64"
      ]
     },
     "execution_count": 7,
     "metadata": {},
     "output_type": "execute_result"
    }
   ],
   "source": [
    "# create frequency distribution table for c_grade column after slicing df\n",
    "round(df.c_grade.value_counts(normalize=True, dropna=False)*100,0)"
   ]
  },
  {
   "cell_type": "markdown",
   "id": "59876438",
   "metadata": {},
   "source": [
    "# Cleaning Features\n",
    "The frequency distribution table for the current_demerits columns indicates that the columns contain missing, unusually high, float, and negative values. The column should contain only natural numbers not exceeding 87. To address this issue, I replace values outside this criterion as missing, fill missing values with a mean value, and convert the column to the integer type. I follow a similar procedure to clean the remaining five features."
   ]
  },
  {
   "cell_type": "code",
   "execution_count": 8,
   "id": "76621ab8",
   "metadata": {},
   "outputs": [
    {
     "data": {
      "text/plain": [
       " 0.00       3920\n",
       " 3.00       3115\n",
       " 8.00       2437\n",
       " 6.00       2198\n",
       " 9.00       1868\n",
       " 5.00        763\n",
       " 10.00       449\n",
       " NaN         216\n",
       " 7.00        111\n",
       " 19.00        73\n",
       " 4.00         60\n",
       " 20.00        50\n",
       " 1.00         48\n",
       " 2.00         35\n",
       " 14.00        34\n",
       " 17.00        23\n",
       " 27.00        16\n",
       " 11.00        16\n",
       " 12.00        15\n",
       " 25.00        13\n",
       " 22.00        13\n",
       " 32.00        13\n",
       " 16.00        11\n",
       " 18.00        11\n",
       " 31.00        10\n",
       " 30.00         9\n",
       " 46.00         9\n",
       " 100.00        8\n",
       " 51.00         7\n",
       " 13.00         7\n",
       " 23.00         7\n",
       " 42.00         7\n",
       " 24.00         6\n",
       " 35.00         6\n",
       " 26.00         6\n",
       " 39.00         6\n",
       " 28.00         5\n",
       " 15.00         5\n",
       " 38.00         5\n",
       " 43.00         3\n",
       " 21.00         2\n",
       " 37.00         1\n",
       " 33.00         1\n",
       " 87.00         1\n",
       " 88.00         1\n",
       " 98.00         1\n",
       " 363.00        1\n",
       " 89.00         1\n",
       " 1214.00       1\n",
       "-8.00          1\n",
       " 48.00         1\n",
       " 3.14          1\n",
       "Name: current_demerits, dtype: int64"
      ]
     },
     "execution_count": 8,
     "metadata": {},
     "output_type": "execute_result"
    }
   ],
   "source": [
    "# create frequency distribution table for current_demerits column\n",
    "df.current_demerits.value_counts(dropna=False)"
   ]
  },
  {
   "cell_type": "code",
   "execution_count": 9,
   "id": "f6127d9c",
   "metadata": {},
   "outputs": [],
   "source": [
    "#cleaing current_demerits\n",
    "df.current_demerits.replace([1214, 89, 88, 363, 100, 98, -8.00, 3.14] , np.nan, inplace=True )\n",
    "df.current_demerits.fillna(round(df.current_demerits.mean(), 0), inplace=True)\n",
    "df.current_demerits = df.current_demerits.astype('int')\n",
    "\n",
    "#cleaning employee_count\n",
    "df.employee_count.replace([687, 111447, -7, 902] , np.nan, inplace=True )\n",
    "df.employee_count = df.employee_count.astype('float')\n",
    "df.employee_count.fillna(round(df.employee_count.mean(), 0), inplace=True)\n",
    "df.employee_count = df.employee_count.astype('int')\n",
    "\n",
    "#cleaning inspection_demerits\n",
    "df.inspection_demerits.replace('Routine Inspection', np.nan, inplace=True )\n",
    "df.inspection_demerits = df.inspection_demerits.astype('float')\n",
    "df.inspection_demerits.fillna(round(df.inspection_demerits.mean(), 0), inplace=True)\n",
    "df.inspection_demerits = df.inspection_demerits.astype('int')\n",
    "\n",
    "#cleaning number_of_violations\n",
    "df.number_of_violations.replace('Nevada', np.nan, inplace=True )\n",
    "df.number_of_violations = df.number_of_violations.astype('float')\n",
    "df.number_of_violations.fillna(round(df.number_of_violations.mean(), 0), inplace=True)\n",
    "df.number_of_violations = df.number_of_violations.astype('int')\n",
    "\n",
    "#cleaning median_employee_age\n",
    "df.median_employee_age.fillna(round(df.median_employee_age.mean(), 0), inplace=True)\n",
    "\n",
    "#cleaning median_employee_tenure\n",
    "df.median_employee_tenure.fillna(round(df.median_employee_tenure.mean(), 0), inplace=True)"
   ]
  },
  {
   "cell_type": "markdown",
   "id": "c89dedb0",
   "metadata": {},
   "source": [
    "# ML Modeling\n",
    "To determine the predictive capacity of the ML model, I split the data into a training set and testing set. Given that the number of restaurants that receive a C grade or below for their evaluation (16%) is fewer than the remaining cases (84%), I use the ClusterCentroids method to better train the model to recognize the minority class cases. This method addresses data imbalance by undersampling the majority class by replacing a cluster of majority samples with the cluster centroid of a KMeans algorithm. \n",
    "\n",
    "I use the pipeline tool combined with GridSearchCV to assemble several steps that can be cross-validated while setting different parameters. The preprocessing step in the pipeline includes StandardScaler, which standardizes features by removing the mean and scaling to unit variance. The classifier step includes C-Support Vector Classification, Random Forrest, Logistic Regression, and Gradient Boosting classifiers.\n",
    "\n",
    "GridSearchCV runs through all the different parameters fed into the parameter grid and produces the best combination of parameters based on a scoring metric of your choice. The recall is used as a performance metric when there is a need to identify all positive samples; that is, when it is crucial to avoid false negatives. A health code violation is a good case for this: it is vital to find all non-compliant restaurants, possibly falsely including well-maintained venues in the prediction. Thus, I use recall as an evaluation metric when ranking results."
   ]
  },
  {
   "cell_type": "code",
   "execution_count": 10,
   "id": "9453d2dc",
   "metadata": {},
   "outputs": [],
   "source": [
    "#import ML libraries\n",
    "from sklearn.preprocessing import StandardScaler\n",
    "from sklearn.pipeline import Pipeline\n",
    "from sklearn.metrics import classification_report, roc_curve, roc_auc_score, confusion_matrix\n",
    "from sklearn.model_selection import train_test_split, GridSearchCV\n",
    "from sklearn.ensemble import RandomForestClassifier, GradientBoostingClassifier\n",
    "from sklearn.linear_model import LogisticRegression\n",
    "from imblearn.under_sampling import ClusterCentroids\n",
    "from sklearn.svm import SVC\n",
    "from sklearn.calibration import CalibratedClassifierCV"
   ]
  },
  {
   "cell_type": "code",
   "execution_count": 11,
   "id": "e8149e3d",
   "metadata": {},
   "outputs": [],
   "source": [
    "y = df.c_grade\n",
    "X = df[['current_demerits', 'employee_count', 'median_employee_age', \n",
    "        'median_employee_tenure','inspection_demerits', 'number_of_violations']]"
   ]
  },
  {
   "cell_type": "code",
   "execution_count": 12,
   "id": "007f38d9",
   "metadata": {},
   "outputs": [],
   "source": [
    "# Create the pipeline\n",
    "pipe = Pipeline([('preprocessing', StandardScaler()), ('classifier', SVC())])\n",
    "\n",
    "# Specify the hyperparameter space\n",
    "parameters = [\n",
    "{'classifier': [SVC(probability=True, random_state=0)], \n",
    " 'preprocessing': [StandardScaler(), None],  \n",
    " 'classifier__gamma': [0.01, 0.1, 1, 10, 100],\n",
    " 'classifier__C': [0.01, 0.1, 1, 10, 100]},\n",
    "    \n",
    "{'classifier': [RandomForestClassifier(n_jobs=-1, random_state=0)], \n",
    " 'preprocessing': [StandardScaler(), None], \n",
    " 'classifier__criterion': ['gini', 'entropy'],\n",
    " 'classifier__max_depth': [None, 2, 3, 100],\n",
    " 'classifier__max_features': ['auto', 4, 5, 6],\n",
    "'classifier__min_samples_leaf': [3, 4, 5],\n",
    "'classifier__min_samples_split': [8, 10, 12],\n",
    "'classifier__n_estimators': [100, 200, 300]},\n",
    "\n",
    "{'classifier': [LogisticRegression(max_iter=1000)], \n",
    " 'preprocessing': [StandardScaler(), None], \n",
    " 'classifier__C': [0.01, 0.1, 1, 10, 100]},\n",
    "\n",
    "{'classifier': [GradientBoostingClassifier(random_state=0)], \n",
    " 'preprocessing': [StandardScaler(), None],\n",
    " 'classifier__learning_rate': [0.01, 0.1, 1, 10],\n",
    " 'classifier__n_estimators': [100, 200, 300],\n",
    "  'classifier__max_depth': [2, 3, 5]}\n",
    "]\n",
    "\n",
    "# Instantiate the GridSearchCV object\n",
    "grid = GridSearchCV(pipe, param_grid=parameters, cv=5, scoring='recall')"
   ]
  },
  {
   "cell_type": "code",
   "execution_count": 13,
   "id": "b2b40833",
   "metadata": {},
   "outputs": [],
   "source": [
    "# Define resampling method\n",
    "method = ClusterCentroids(random_state=0)\n",
    "\n",
    "# Create training and testing sets\n",
    "X_train, X_test, y_train, y_test = train_test_split(X, y, random_state=0)\n",
    "\n",
    "# Apply resampling to the training data only\n",
    "X_resampled, y_resampled = method.fit_resample(X_train, y_train)\n",
    "\n",
    "# Fit to the training set\n",
    "grid_search = grid.fit(X_resampled, y_resampled)\n",
    "\n",
    "# Get performance metrics\n",
    "predicted = grid_search.predict(X_test)"
   ]
  },
  {
   "cell_type": "markdown",
   "id": "3625c267",
   "metadata": {},
   "source": [
    "# Results\n",
    "The exhaustive search identified the best parameters: SVC with the regularization parameter of 0.1 and gamma parameter for non-linear hyperplanes of 0.01 in combination with StandardScaler. This model produced a recall score for problematic restaurants of 0.73. Because this test set recall score of the model is not significantly worse than the cross-validation recall score during training (0.76), the model is not likely to overfit and can be considered reliable. Unfortunetely, the model has a very low precision score of 0.15."
   ]
  },
  {
   "cell_type": "code",
   "execution_count": 14,
   "id": "bc32f3c3-2172-447f-bcbd-9852be225538",
   "metadata": {},
   "outputs": [
    {
     "name": "stdout",
     "output_type": "stream",
     "text": [
      "Best params:\n",
      "{'classifier': SVC(C=0.1, gamma=0.01, probability=True, random_state=0), 'classifier__C': 0.1, 'classifier__gamma': 0.01, 'preprocessing': StandardScaler()}\n",
      "\n",
      "Best cross-validation score: 0.76\n",
      "Test set score: 0.73\n",
      "Confusion matrix:\n",
      "[[ 669 2623]\n",
      " [ 167  448]]\n",
      "              precision    recall  f1-score   support\n",
      "\n",
      "           0       0.80      0.20      0.32      3292\n",
      "           1       0.15      0.73      0.24       615\n",
      "\n",
      "    accuracy                           0.29      3907\n",
      "   macro avg       0.47      0.47      0.28      3907\n",
      "weighted avg       0.70      0.29      0.31      3907\n",
      "\n"
     ]
    }
   ],
   "source": [
    "print(\"Best params:\\n{}\\n\".format(grid_search.best_params_))\n",
    "print(\"Best cross-validation score: {:.2f}\".format(grid_search.best_score_))\n",
    "print(\"Test set score: {:.2f}\".format(grid_search.score(X_test, y_test)))\n",
    "print(\"Confusion matrix:\\n{}\".format(confusion_matrix(y_test, predicted)))\n",
    "print (classification_report(y_test, predicted))"
   ]
  },
  {
   "cell_type": "markdown",
   "id": "56c9430f",
   "metadata": {},
   "source": [
    "# Conclusion\n",
    "The final model uses only six numeric features to predict if a restaurant receives a C grade or below during the inspection. Three predictors refer to employee characteristics; the remaining three variables describe the degree of violations. The model could identify 73% of problematic restaurants in a holdout test data set. At the same time, misclassified many compliant restaurants as non-compliant ones. It may be a good tool if the regulator wants to identify as many problematic restaurants as possible in case there are plenty of resources to inspect many compliant restaurants. \n",
    "\n",
    "There is plenty of room to improve the model's predictive capacity by supplementing it with additional data sources. For instance, employee characteristics in the current model had decent effect sizes. Additional descriptive information about employees, such as experience and training in safe food preparation practices, may improve the model substantially. In addition to employees' ability, motivation and incentives to practice safe food handling (or cut corners to maximize lower quality output in the kitchen) are also essential components that may explain and predict (in)compliance by restaurants. Other projects were able to leverage social media in predicting outcomes of health inspections. For instance, Uppoor et al. used data from Yelp reviews ([see PDF](https://cseweb.ucsd.edu/classes/wi15/cse255-a/reports/fa15/036.pdf)). However, the authors reported that it is more challenging to predict critical violations than minor problems."
   ]
  }
 ],
 "metadata": {
  "kernelspec": {
   "display_name": "Python 3 (ipykernel)",
   "language": "python",
   "name": "python3"
  },
  "language_info": {
   "codemirror_mode": {
    "name": "ipython",
    "version": 3
   },
   "file_extension": ".py",
   "mimetype": "text/x-python",
   "name": "python",
   "nbconvert_exporter": "python",
   "pygments_lexer": "ipython3",
   "version": "3.9.7"
  }
 },
 "nbformat": 4,
 "nbformat_minor": 5
}
