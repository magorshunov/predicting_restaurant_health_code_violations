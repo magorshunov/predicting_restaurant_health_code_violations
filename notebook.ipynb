{
 "cells": [
  {
   "attachments": {},
   "cell_type": "markdown",
   "id": "a3be1a5b",
   "metadata": {},
   "source": [
    "## <center> Predicting Critical Health Code Violations: Dining in Las Vegas"
   ]
  },
  {
   "attachments": {},
   "cell_type": "markdown",
   "id": "979ea1c1",
   "metadata": {},
   "source": [
    "Restaurants are frequent settings for foodborne illness outbreaks. Periodic inspection of restaurants is crucial to ensure commercial food establishments carry out safe food handling procedures. Predictive analytics can help identify problematic restaurants and maximize the utility of limited enforcement resources. To that end, I develop a machine learning model in this notebook. The resulting model can predict restaurants and other dining venues likely to face critical health code challenges in Las Vegas during the next inspection period.\n",
    "\n",
    "The final model uses five numeric features to predict if a restaurant receives a C grade or below during the inspection (i.e., critical violation of sanitary practices). Three predictors refer to employee characteristics; the remaining two features describe the degree of violations. The model is a good tool if the purpose is to identify as many problematic restaurants as possible. The model could correctly identify 80% of problematic restaurants in a holdout test data set. At the same time, the model misclassified many compliant restaurants as non-compliant ones.\n",
    "\n",
    "The dataset is available under the file name train.csv (https://github.com/magorshunov/predicting_violations/blob/main/train.csv)."
   ]
  },
  {
   "attachments": {},
   "cell_type": "markdown",
   "id": "11d76521",
   "metadata": {},
   "source": [
    "# Initial Data Exploration and Observations\n",
    "I converted all uppercase characters in column names into lowercase characters to facilitate data manipulation. I also renamed the target variable to 'target.'\n",
    "\n",
    "The concise summary of the dataframe indicates that many rows have some missing values. The heat map shows that missing values do not seem to occur because of a systematic reason. As such, the missing values can be imputed without introducing a significant bias to the data.\n",
    "\n",
    "While the dataframe contains many features, my unreported exploratory analyses indicate that most of these features are neither predictive of the target nor necessary. For instance, the information contained in 'current_grade' is already reflected in 'current_demerits.' As such, I focus my analyses on numeric features that tend to contain richer information compared to categorical data. I focus on the following five numeric features: \n",
    "- current_demerits\n",
    "- employee_count\n",
    "- inspection_demerits\n",
    "- median_employee_age\n",
    "- median_employee_tenure"
   ]
  },
  {
   "cell_type": "code",
   "execution_count": 1,
   "id": "2f5236e5",
   "metadata": {},
   "outputs": [],
   "source": [
    "#import Python libraries\n",
    "import pandas as pd\n",
    "pd.set_option('display.max_rows', None, 'display.max_columns', None, 'display.width', None)\n",
    "import seaborn as sns\n",
    "import numpy as np\n",
    "import matplotlib.pyplot as plt\n",
    "%matplotlib inline\n",
    "sns.set(rc={'figure.figsize':(17, 4)})\n",
    "import warnings\n",
    "warnings.filterwarnings('ignore')"
   ]
  },
  {
   "cell_type": "code",
   "execution_count": 2,
   "id": "97039d6b",
   "metadata": {},
   "outputs": [
    {
     "data": {
      "text/html": [
       "<div>\n",
       "<style scoped>\n",
       "    .dataframe tbody tr th:only-of-type {\n",
       "        vertical-align: middle;\n",
       "    }\n",
       "\n",
       "    .dataframe tbody tr th {\n",
       "        vertical-align: top;\n",
       "    }\n",
       "\n",
       "    .dataframe thead th {\n",
       "        text-align: right;\n",
       "    }\n",
       "</style>\n",
       "<table border=\"1\" class=\"dataframe\">\n",
       "  <thead>\n",
       "    <tr style=\"text-align: right;\">\n",
       "      <th></th>\n",
       "      <th>restaurant_serial_number</th>\n",
       "      <th>restaurant_permit_number</th>\n",
       "      <th>restaurant_name</th>\n",
       "      <th>restaurant_location</th>\n",
       "      <th>restaurant_category</th>\n",
       "      <th>address</th>\n",
       "      <th>city</th>\n",
       "      <th>state</th>\n",
       "      <th>zip</th>\n",
       "      <th>current_demerits</th>\n",
       "      <th>current_grade</th>\n",
       "      <th>employee_count</th>\n",
       "      <th>median_employee_age</th>\n",
       "      <th>median_employee_tenure</th>\n",
       "      <th>inspection_time</th>\n",
       "      <th>inspection_type</th>\n",
       "      <th>inspection_demerits</th>\n",
       "      <th>violations_raw</th>\n",
       "      <th>record_updated</th>\n",
       "      <th>lat_long_raw</th>\n",
       "      <th>first_violation</th>\n",
       "      <th>second_violation</th>\n",
       "      <th>third_violation</th>\n",
       "      <th>first_violation_type</th>\n",
       "      <th>second_violation_type</th>\n",
       "      <th>third_violation_type</th>\n",
       "      <th>number_of_violations</th>\n",
       "      <th>target</th>\n",
       "    </tr>\n",
       "  </thead>\n",
       "  <tbody>\n",
       "    <tr>\n",
       "      <th>6478</th>\n",
       "      <td>DA1546062</td>\n",
       "      <td>PR0013888</td>\n",
       "      <td>Pump N Snack Deli</td>\n",
       "      <td>Pump N Snack</td>\n",
       "      <td>Snack Bar</td>\n",
       "      <td>329 N Las Vegas Blvd</td>\n",
       "      <td>Las Vegas</td>\n",
       "      <td>Nevada</td>\n",
       "      <td>89101-2965</td>\n",
       "      <td>8.0</td>\n",
       "      <td>A</td>\n",
       "      <td>24.0</td>\n",
       "      <td>32.953746</td>\n",
       "      <td>6.272959</td>\n",
       "      <td>7/1/2015 14:30</td>\n",
       "      <td>Routine Inspection</td>\n",
       "      <td>15</td>\n",
       "      <td>2,152,172,222,909,290,000,000,000</td>\n",
       "      <td>7/6/2015 12:12</td>\n",
       "      <td>(36.171985, 115.139176)</td>\n",
       "      <td>215.0</td>\n",
       "      <td>217.0</td>\n",
       "      <td>222.0</td>\n",
       "      <td>Major</td>\n",
       "      <td>Major</td>\n",
       "      <td>Major</td>\n",
       "      <td>7</td>\n",
       "      <td>0</td>\n",
       "    </tr>\n",
       "    <tr>\n",
       "      <th>14817</th>\n",
       "      <td>DA0984229</td>\n",
       "      <td>PR0022849</td>\n",
       "      <td>Tortilleria San Diego</td>\n",
       "      <td>Tortilleria San Diego</td>\n",
       "      <td>Restaurant</td>\n",
       "      <td>235 N Eastern Ave 117</td>\n",
       "      <td>Las Vegas</td>\n",
       "      <td>NaN</td>\n",
       "      <td>89101-4542</td>\n",
       "      <td>0.0</td>\n",
       "      <td>A</td>\n",
       "      <td>15.0</td>\n",
       "      <td>28.561471</td>\n",
       "      <td>2.513798</td>\n",
       "      <td>5/30/2012 10:10</td>\n",
       "      <td>Routine Inspection</td>\n",
       "      <td>19</td>\n",
       "      <td>211,212,214,215,216,000,000,000,000</td>\n",
       "      <td>2/21/2013 22:26</td>\n",
       "      <td>(36.1651291, 115.1164481)</td>\n",
       "      <td>211.0</td>\n",
       "      <td>212.0</td>\n",
       "      <td>214.0</td>\n",
       "      <td>Major</td>\n",
       "      <td>Major</td>\n",
       "      <td>Major</td>\n",
       "      <td>9</td>\n",
       "      <td>0</td>\n",
       "    </tr>\n",
       "    <tr>\n",
       "      <th>10530</th>\n",
       "      <td>DA0946895</td>\n",
       "      <td>PR0002002</td>\n",
       "      <td>Sbarros #551 at Boulevard Mall</td>\n",
       "      <td>Boulevard Mall - Sbarros #551</td>\n",
       "      <td>Restaurant</td>\n",
       "      <td>3528 S Maryland Pkwy</td>\n",
       "      <td>Las Vegas</td>\n",
       "      <td>Nevada</td>\n",
       "      <td>89169-3054</td>\n",
       "      <td>8.0</td>\n",
       "      <td>A</td>\n",
       "      <td>24.0</td>\n",
       "      <td>36.845926</td>\n",
       "      <td>3.101600</td>\n",
       "      <td>2/28/2012 12:00</td>\n",
       "      <td>Routine Inspection</td>\n",
       "      <td>6</td>\n",
       "      <td>222,229,230,233</td>\n",
       "      <td>2/21/2013 22:26</td>\n",
       "      <td>(36.1248998, 115.1350531)</td>\n",
       "      <td>222.0</td>\n",
       "      <td>229.0</td>\n",
       "      <td>230.0</td>\n",
       "      <td>Major</td>\n",
       "      <td>Non-Major</td>\n",
       "      <td>Non-Major</td>\n",
       "      <td>4</td>\n",
       "      <td>0</td>\n",
       "    </tr>\n",
       "  </tbody>\n",
       "</table>\n",
       "</div>"
      ],
      "text/plain": [
       "      restaurant_serial_number restaurant_permit_number   \n",
       "6478                 DA1546062                PR0013888  \\\n",
       "14817                DA0984229                PR0022849   \n",
       "10530                DA0946895                PR0002002   \n",
       "\n",
       "                      restaurant_name            restaurant_location   \n",
       "6478                Pump N Snack Deli                   Pump N Snack  \\\n",
       "14817           Tortilleria San Diego          Tortilleria San Diego   \n",
       "10530  Sbarros #551 at Boulevard Mall  Boulevard Mall - Sbarros #551   \n",
       "\n",
       "      restaurant_category                address       city   state   \n",
       "6478            Snack Bar   329 N Las Vegas Blvd  Las Vegas  Nevada  \\\n",
       "14817          Restaurant  235 N Eastern Ave 117  Las Vegas     NaN   \n",
       "10530          Restaurant   3528 S Maryland Pkwy  Las Vegas  Nevada   \n",
       "\n",
       "              zip  current_demerits current_grade  employee_count   \n",
       "6478   89101-2965               8.0             A            24.0  \\\n",
       "14817  89101-4542               0.0             A            15.0   \n",
       "10530  89169-3054               8.0             A            24.0   \n",
       "\n",
       "       median_employee_age  median_employee_tenure  inspection_time   \n",
       "6478             32.953746                6.272959   7/1/2015 14:30  \\\n",
       "14817            28.561471                2.513798  5/30/2012 10:10   \n",
       "10530            36.845926                3.101600  2/28/2012 12:00   \n",
       "\n",
       "          inspection_type inspection_demerits   \n",
       "6478   Routine Inspection                  15  \\\n",
       "14817  Routine Inspection                  19   \n",
       "10530  Routine Inspection                   6   \n",
       "\n",
       "                            violations_raw   record_updated   \n",
       "6478     2,152,172,222,909,290,000,000,000   7/6/2015 12:12  \\\n",
       "14817  211,212,214,215,216,000,000,000,000  2/21/2013 22:26   \n",
       "10530                      222,229,230,233  2/21/2013 22:26   \n",
       "\n",
       "                    lat_long_raw  first_violation  second_violation   \n",
       "6478     (36.171985, 115.139176)            215.0             217.0  \\\n",
       "14817  (36.1651291, 115.1164481)            211.0             212.0   \n",
       "10530  (36.1248998, 115.1350531)            222.0             229.0   \n",
       "\n",
       "       third_violation first_violation_type second_violation_type   \n",
       "6478             222.0                Major                 Major  \\\n",
       "14817            214.0                Major                 Major   \n",
       "10530            230.0                Major             Non-Major   \n",
       "\n",
       "      third_violation_type number_of_violations target  \n",
       "6478                 Major                    7      0  \n",
       "14817                Major                    9      0  \n",
       "10530            Non-Major                    4      0  "
      ]
     },
     "execution_count": 2,
     "metadata": {},
     "output_type": "execute_result"
    }
   ],
   "source": [
    "#read in the dataset into dataframe and display three randomly selected rows\n",
    "df = pd.read_csv('TRAIN_SET_2021.csv')\n",
    "df.columns = df.columns.str.lower()\n",
    "df.rename(columns = {'next_inspection_grade_c_or_below':'target'}, inplace = True) \n",
    "df.sample(3)"
   ]
  },
  {
   "cell_type": "code",
   "execution_count": 3,
   "id": "7cfcd0ec",
   "metadata": {},
   "outputs": [
    {
     "data": {
      "text/plain": [
       "restaurant_serial_number      0\n",
       "restaurant_permit_number      0\n",
       "restaurant_name              65\n",
       "restaurant_location         200\n",
       "restaurant_category         130\n",
       "address                      70\n",
       "city                        236\n",
       "state                       209\n",
       "zip                          59\n",
       "current_demerits            216\n",
       "current_grade               308\n",
       "employee_count               93\n",
       "median_employee_age          34\n",
       "median_employee_tenure      297\n",
       "inspection_time             183\n",
       "inspection_type             221\n",
       "inspection_demerits         254\n",
       "violations_raw              165\n",
       "record_updated              119\n",
       "lat_long_raw                 15\n",
       "first_violation             212\n",
       "second_violation             85\n",
       "third_violation              61\n",
       "first_violation_type        146\n",
       "second_violation_type       267\n",
       "third_violation_type        173\n",
       "number_of_violations        169\n",
       "target                       40\n",
       "dtype: int64"
      ]
     },
     "execution_count": 3,
     "metadata": {},
     "output_type": "execute_result"
    }
   ],
   "source": [
    "#display number of missing variables per column\n",
    "df.isnull().sum()"
   ]
  },
  {
   "cell_type": "code",
   "execution_count": 4,
   "id": "8a2ce55c",
   "metadata": {},
   "outputs": [
    {
     "data": {
      "image/png": "[encoded data removed]",
      "text/plain": [
       "<Figure size 1224x288 with 1 Axes>"
      ]
     },
     "metadata": {},
     "output_type": "display_data"
    }
   ],
   "source": [
    "# create heatmap for missing values\n",
    "sns.heatmap(df.isnull(), cbar=False, cmap=\"YlGnBu\")\n",
    "plt.title('Missing Values', fontsize=20)\n",
    "plt.show()"
   ]
  },
  {
   "attachments": {},
   "cell_type": "markdown",
   "id": "d64f95be",
   "metadata": {},
   "source": [
    "# Cleaning Target Variable\n",
    "To explore the target column, I created a frequency distribution table. The table reveals that the most common values are coded 0 and 1. Additionally, the column contains 40 missings values and some erroneous entries. I slice the dataframe that contains only 0 and 1 values and convert the column to the integer type to address these issues. The resulting dataframe contains 84% of values coded 1, while the remaining 16% were coded 0."
   ]
  },
  {
   "cell_type": "code",
   "execution_count": 5,
   "id": "04f70459",
   "metadata": {},
   "outputs": [
    {
     "data": {
      "text/plain": [
       "0       13143\n",
       "1        2484\n",
       "NaN        40\n",
       "-3          1\n",
       "Goat        1\n",
       "7           1\n",
       "9           1\n",
       "4           1\n",
       "3           1\n",
       "Name: target, dtype: int64"
      ]
     },
     "execution_count": 5,
     "metadata": {},
     "output_type": "execute_result"
    }
   ],
   "source": [
    "# create frequency distribution table for the target column\n",
    "df.target.value_counts(dropna=False)"
   ]
  },
  {
   "cell_type": "code",
   "execution_count": 6,
   "id": "609ed5a5",
   "metadata": {},
   "outputs": [],
   "source": [
    "#slice the df\n",
    "df = df[(df.target == '1') | (df.target == '0')]\n",
    "df.target = df.target.astype('int')"
   ]
  },
  {
   "cell_type": "code",
   "execution_count": 7,
   "id": "b1a04fb3",
   "metadata": {},
   "outputs": [
    {
     "data": {
      "text/plain": [
       "0    84.0\n",
       "1    16.0\n",
       "Name: target, dtype: float64"
      ]
     },
     "execution_count": 7,
     "metadata": {},
     "output_type": "execute_result"
    }
   ],
   "source": [
    "# create frequency distribution table for target column after slicing df\n",
    "round(df.target.value_counts(normalize=True, dropna=False)*100,0)"
   ]
  },
  {
   "attachments": {},
   "cell_type": "markdown",
   "id": "59876438",
   "metadata": {},
   "source": [
    "# Cleaning Features\n",
    "The frequency distribution table for the current_demerits columns indicates that the columns contain missing, unusually high, float, and negative values. The column should contain only natural numbers not exceeding 87. To address this issue, I replace values outside this criterion as missing, fill missing values with a mean value, and convert the column to the integer type. I follow a similar procedure to clean the remaining five features."
   ]
  },
  {
   "cell_type": "code",
   "execution_count": 8,
   "id": "76621ab8",
   "metadata": {},
   "outputs": [
    {
     "data": {
      "text/plain": [
       " 0.00       3920\n",
       " 3.00       3115\n",
       " 8.00       2437\n",
       " 6.00       2198\n",
       " 9.00       1868\n",
       " 5.00        763\n",
       " 10.00       449\n",
       " NaN         216\n",
       " 7.00        111\n",
       " 19.00        73\n",
       " 4.00         60\n",
       " 20.00        50\n",
       " 1.00         48\n",
       " 2.00         35\n",
       " 14.00        34\n",
       " 17.00        23\n",
       " 27.00        16\n",
       " 11.00        16\n",
       " 12.00        15\n",
       " 25.00        13\n",
       " 22.00        13\n",
       " 32.00        13\n",
       " 16.00        11\n",
       " 18.00        11\n",
       " 31.00        10\n",
       " 30.00         9\n",
       " 46.00         9\n",
       " 100.00        8\n",
       " 51.00         7\n",
       " 13.00         7\n",
       " 23.00         7\n",
       " 42.00         7\n",
       " 24.00         6\n",
       " 35.00         6\n",
       " 26.00         6\n",
       " 39.00         6\n",
       " 28.00         5\n",
       " 15.00         5\n",
       " 38.00         5\n",
       " 43.00         3\n",
       " 21.00         2\n",
       " 37.00         1\n",
       " 33.00         1\n",
       " 87.00         1\n",
       " 88.00         1\n",
       " 98.00         1\n",
       " 363.00        1\n",
       " 89.00         1\n",
       " 1214.00       1\n",
       "-8.00          1\n",
       " 48.00         1\n",
       " 3.14          1\n",
       "Name: current_demerits, dtype: int64"
      ]
     },
     "execution_count": 8,
     "metadata": {},
     "output_type": "execute_result"
    }
   ],
   "source": [
    "# create frequency distribution table for current_demerits column\n",
    "df.current_demerits.value_counts(dropna=False)"
   ]
  },
  {
   "cell_type": "code",
   "execution_count": 9,
   "id": "f6127d9c",
   "metadata": {},
   "outputs": [],
   "source": [
    "#cleaing current_demerits\n",
    "df.current_demerits.replace([1214, 89, 88, 363, 100, 98, -8.00, 3.14] , np.nan, inplace=True )\n",
    "df.current_demerits.fillna(round(df.current_demerits.mean(), 0), inplace=True)\n",
    "df.current_demerits = df.current_demerits.astype('int')\n",
    "\n",
    "#cleaning employee_count\n",
    "df.employee_count.replace([687, 111447, -7, 902] , np.nan, inplace=True )\n",
    "df.employee_count = df.employee_count.astype('float')\n",
    "df.employee_count.fillna(round(df.employee_count.mean(), 0), inplace=True)\n",
    "df.employee_count = df.employee_count.astype('int')\n",
    "\n",
    "#cleaning inspection_demerits\n",
    "df.inspection_demerits.replace('Routine Inspection', np.nan, inplace=True )\n",
    "df.inspection_demerits = df.inspection_demerits.astype('float')\n",
    "df.inspection_demerits.fillna(round(df.inspection_demerits.mean(), 0), inplace=True)\n",
    "df.inspection_demerits = df.inspection_demerits.astype('int')\n",
    "\n",
    "#cleaning number_of_violations\n",
    "df.number_of_violations.replace('Nevada', np.nan, inplace=True )\n",
    "df.number_of_violations = df.number_of_violations.astype('float')\n",
    "df.number_of_violations.fillna(round(df.number_of_violations.mean(), 0), inplace=True)\n",
    "df.number_of_violations = df.number_of_violations.astype('int')\n",
    "\n",
    "#cleaning median_employee_age\n",
    "df.median_employee_age.fillna(round(df.median_employee_age.mean(), 0), inplace=True)\n",
    "\n",
    "#cleaning median_employee_tenure\n",
    "df.median_employee_tenure.fillna(round(df.median_employee_tenure.mean(), 0), inplace=True)"
   ]
  },
  {
   "attachments": {},
   "cell_type": "markdown",
   "id": "bf83b451",
   "metadata": {},
   "source": [
    "# Feature Selection\n",
    "The next thing to look for is potential collinearity between some of these feature columns. Collinearity is when two feature columns are highly correlated and risk duplicating information. If two features convey the same information using two different measures or metrics, there is no need to keep both.\n",
    "\n",
    "I generate a correlation matrix heatmap using Seaborn to visually compare the correlations and look for problematic pairwise feature correlations. Based on the correlation matrix heatmap, the following pairs of columns are strongly correlated: 'inspection_demerits' and 'number_of_violations.' These two features reflect very similar information. Given that 'inspection_demeritts' contain more nuanced information, I drop 'number_of_violations' from further analysis.\n",
    "\n",
    "Also, I examined the possibility of removing features with low variance. When the values in a feature column have low variance, they don't meaningfully contribute to the model's predictive capability. To make apples-to-apples comparisons between columns, I rescaled all of the columns to vary between 0 and 1. This is known as min-max scaling or as rescaling. But I finally decided to keep all five features in the model. "
   ]
  },
  {
   "cell_type": "code",
   "execution_count": 10,
   "id": "bb97fcfc",
   "metadata": {},
   "outputs": [
    {
     "data": {
      "image/png": "[encoded data removed]",
      "text/plain": [
       "<Figure size 720x720 with 2 Axes>"
      ]
     },
     "metadata": {},
     "output_type": "display_data"
    }
   ],
   "source": [
    "# Explore correlations among features\n",
    "corr = df[['target', 'current_demerits', 'employee_count', 'median_employee_age', \n",
    "           'median_employee_tenure','inspection_demerits', 'number_of_violations']].corr()\n",
    "plt.figure(figsize=(10,10))\n",
    "ax = sns.heatmap(corr,vmin=-1, vmax=1, center=0,cmap=sns.diverging_palette(20, 220, n=200), square=True)\n",
    "ax.set_xticklabels(ax.get_xticklabels(), rotation=90, horizontalalignment='right')\n",
    "ax.set_title('Pairwise Correlations Among Features', fontsize=20)\n",
    "plt.show()"
   ]
  },
  {
   "attachments": {},
   "cell_type": "markdown",
   "id": "c89dedb0",
   "metadata": {},
   "source": [
    "# ML Modeling\n",
    "To determine the predictive capacity of the ML model, I split the data into a training set and testing set. Given that the number of restaurants that receive a C grade or below for their evaluation (16%) is fewer than the remaining cases (84%), I use the ClusterCentroids method to better train the model to recognize the minority class cases. This method addresses data imbalance by undersampling the majority class by replacing a cluster of majority samples with the cluster centroid of a KMeans algorithm. \n",
    "\n",
    "I use the pipeline tool combined with GridSearchCV to assemble several steps that can be cross-validated while setting different parameters. The preprocessing step in the pipeline includes RobustScaler, scales features using statistics that are robust to outliers. The classifier step includes C-Support Vector Classification, Random Forrest, Logistic Regression, and Gradient Boosting classifiers.\n",
    "\n",
    "GridSearchCV runs through all the different parameters fed into the parameter grid and produces the best combination of parameters based on a scoring metric of your choice. The recall is used as a performance metric when there is a need to identify all positive samples; that is, when it is crucial to avoid false negatives. A health code violation is a good case for this: it is vital to find all non-compliant restaurants, possibly falsely including well-maintained venues in the prediction. Thus, I use recall as an evaluation metric when ranking results."
   ]
  },
  {
   "cell_type": "code",
   "execution_count": 11,
   "id": "9453d2dc",
   "metadata": {},
   "outputs": [],
   "source": [
    "#import ML libraries\n",
    "from sklearn.preprocessing import RobustScaler\n",
    "from sklearn.metrics import classification_report, plot_confusion_matrix\n",
    "from sklearn.model_selection import train_test_split, GridSearchCV\n",
    "from sklearn.ensemble import RandomForestClassifier, GradientBoostingClassifier\n",
    "from sklearn.linear_model import LogisticRegression\n",
    "from sklearn.svm import SVC\n",
    "from imblearn.under_sampling import ClusterCentroids\n",
    "from imblearn.pipeline import Pipeline"
   ]
  },
  {
   "cell_type": "code",
   "execution_count": 12,
   "id": "e8149e3d",
   "metadata": {},
   "outputs": [],
   "source": [
    "y = df.target\n",
    "X = df[['current_demerits', 'employee_count', 'median_employee_age', 'median_employee_tenure', 'inspection_demerits']] "
   ]
  },
  {
   "cell_type": "code",
   "execution_count": 13,
   "id": "d2e9a3a5",
   "metadata": {},
   "outputs": [],
   "source": [
    "# Create the pipeline\n",
    "pipe = Pipeline([('preprocessing', RobustScaler()), ('classifier', SVC())])"
   ]
  },
  {
   "cell_type": "code",
   "execution_count": 14,
   "id": "007f38d9",
   "metadata": {},
   "outputs": [],
   "source": [
    "# Specify the hyperparameter space\n",
    "parameters = [\n",
    "{'classifier': [RandomForestClassifier(n_jobs=-1, random_state=0, class_weight='balanced')],\n",
    "'preprocessing': [None],     \n",
    "'classifier__n_estimators': [100, 200, 300],\n",
    "'classifier__max_features': ['auto', 3, 4, 5],\n",
    "'classifier__max_depth': [None, 2, 3, 100],    \n",
    "'classifier__criterion': ['gini', 'entropy'],\n",
    "'classifier__min_samples_leaf': [3, 4, 5],\n",
    "'classifier__min_samples_split': [8, 10, 12]},\n",
    "    \n",
    "{'classifier': [SVC(random_state=0, class_weight='balanced')], \n",
    "'preprocessing': [RobustScaler(), None],\n",
    "'classifier__gamma': [0.01, 0.1, 1, 10, 100],\n",
    "'classifier__C': [0.01, 0.1, 1, 10, 100]},  \n",
    "\n",
    "{'classifier': [GradientBoostingClassifier(random_state=0)], \n",
    "'preprocessing': [None],\n",
    "'classifier__learning_rate': [0.01, 0.1, 1, 10],\n",
    "'classifier__n_estimators': [100, 200, 300],\n",
    "'classifier__max_depth': [2, 3, 5]},\n",
    "\n",
    "{'classifier': [LogisticRegression(n_jobs=-1, max_iter=1000)], \n",
    "'preprocessing': [RobustScaler(), None], \n",
    "'classifier__C': [0.01, 0.1, 1, 10, 100]}\n",
    "]"
   ]
  },
  {
   "cell_type": "code",
   "execution_count": 15,
   "id": "39352a0e",
   "metadata": {},
   "outputs": [],
   "source": [
    "# Instantiate GridSearchCV object\n",
    "grid = GridSearchCV(pipe, param_grid=parameters, cv=5, scoring='recall')"
   ]
  },
  {
   "cell_type": "code",
   "execution_count": 16,
   "id": "aaaf7ab4",
   "metadata": {},
   "outputs": [],
   "source": [
    "# Define resampling method\n",
    "method = ClusterCentroids(random_state=0)"
   ]
  },
  {
   "cell_type": "code",
   "execution_count": 17,
   "id": "b2b40833",
   "metadata": {},
   "outputs": [],
   "source": [
    "# Create training and testing sets\n",
    "X_train, X_test, y_train, y_test = train_test_split(X, y, random_state=0, stratify=y)\n",
    "\n",
    "# Apply resampling to the training data only\n",
    "X_resampled, y_resampled = method.fit_resample(X_train, y_train)"
   ]
  },
  {
   "cell_type": "code",
   "execution_count": 18,
   "id": "c9c39242",
   "metadata": {},
   "outputs": [],
   "source": [
    "# Fit to the training set\n",
    "model = grid.fit(X_resampled, y_resampled)"
   ]
  },
  {
   "attachments": {},
   "cell_type": "markdown",
   "id": "3625c267",
   "metadata": {},
   "source": [
    "# Results\n",
    "The exhaustive search identified the best parameters: SVC with the regularization parameter of 0.1 and gamma parameter for non-linear hyperplanes of 0.01 in combination with RobustScaler. This model produced a recall score for problematic restaurants of 0.82. Because this test set recall score of the model is the same as the cross-validation recall score during training, the model is not likely to overfit and can be considered reliable."
   ]
  },
  {
   "cell_type": "code",
   "execution_count": 19,
   "id": "bc32f3c3-2172-447f-bcbd-9852be225538",
   "metadata": {},
   "outputs": [
    {
     "name": "stdout",
     "output_type": "stream",
     "text": [
      "Best params:\n",
      "{'classifier': SVC(C=0.1, class_weight='balanced', gamma=0.01, random_state=0), 'classifier__C': 0.1, 'classifier__gamma': 0.01, 'preprocessing': RobustScaler()}\n",
      "\n",
      "Best cross-validation score: 0.82\n",
      "Test set score: 0.82\n",
      "              precision    recall  f1-score   support\n",
      "\n",
      "           0       0.83      0.17      0.28      3286\n",
      "           1       0.16      0.82      0.26       621\n",
      "\n",
      "    accuracy                           0.27      3907\n",
      "   macro avg       0.49      0.49      0.27      3907\n",
      "weighted avg       0.72      0.27      0.28      3907\n",
      "\n"
     ]
    },
    {
     "data": {
      "image/png": "[encoded data removed]",
      "text/plain": [
       "<Figure size 1224x288 with 2 Axes>"
      ]
     },
     "metadata": {},
     "output_type": "display_data"
    }
   ],
   "source": [
    "# Get performance metrics\n",
    "predict = model.predict(X_test)\n",
    "\n",
    "print(\"Best params:\\n{}\\n\".format(model.best_params_))\n",
    "print(\"Best cross-validation score: {:.2f}\".format(model.best_score_))\n",
    "print(\"Test set score: {:.2f}\".format(model.score(X_test, y_test)))\n",
    "plot_confusion_matrix(model, X_test, y_test)\n",
    "print (classification_report(y_test, predict))"
   ]
  },
  {
   "attachments": {},
   "cell_type": "markdown",
   "id": "56c9430f",
   "metadata": {},
   "source": [
    "# Conclusion\n",
    "The final model uses five numeric features to predict if a restaurant receives a C grade or below during the inspection. Three predictors refer to employee characteristics; the remaining three variables describe the degree of violations. The model is a good tool if the purpose is to identify as many problematic restaurants as possible. The model could correctly identify 82% of problematic restaurants in a holdout test data set. At the same time, the model misclassified many compliant restaurants as non-compliant ones. \n",
    "\n",
    "There is plenty of room to improve the model's predictive capacity by supplementing it with additional data sources. For instance, employee characteristics in the current model had decent effect sizes. Additional descriptive information about employees, such as experience and training in safe food preparation practices, may improve the model substantially. In addition to employees' ability, motivation and incentives to practice safe food handling (or cut corners to maximize lower quality output in the kitchen) are also essential components that may explain and predict (in)compliance by restaurants. Other projects were able to leverage social media in predicting outcomes of health inspections. For instance, Uppoor et al. used data from Yelp reviews ([see PDF](https://cseweb.ucsd.edu/classes/wi15/cse255-a/reports/fa15/036.pdf)). However, the authors reported that it was more challenging to predict critical violations than minor problems."
   ]
  }
 ],
 "metadata": {
  "kernelspec": {
   "display_name": "base",
   "language": "python",
   "name": "python3"
  },
  "language_info": {
   "codemirror_mode": {
    "name": "ipython",
    "version": 3
   },
   "file_extension": ".py",
   "mimetype": "text/x-python",
   "name": "python",
   "nbconvert_exporter": "python",
   "pygments_lexer": "ipython3",
   "version": "3.11.2"
  },
  "vscode": {
   "interpreter": {
    "hash": "2f2c054dce7f3ebd1e76d58cbab2bcb69b44b6a1fb131f28c8fa296b61f3b710"
   }
  }
 },
 "nbformat": 4,
 "nbformat_minor": 5
}
